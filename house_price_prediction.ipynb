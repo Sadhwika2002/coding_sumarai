{
  "nbformat": 4,
  "nbformat_minor": 0,
  "metadata": {
    "colab": {
      "provenance": [],
      "authorship_tag": "ABX9TyNLDjYzYOHDXkyZVG42JDI5",
      "include_colab_link": true
    },
    "kernelspec": {
      "name": "python3",
      "display_name": "Python 3"
    },
    "language_info": {
      "name": "python"
    }
  },
  "cells": [
    {
      "cell_type": "markdown",
      "metadata": {
        "id": "view-in-github",
        "colab_type": "text"
      },
      "source": [
        "<a href=\"https://colab.research.google.com/github/Sadhwika2002/coding_sumarai/blob/main/house_price_prediction.ipynb\" target=\"_parent\"><img src=\"https://colab.research.google.com/assets/colab-badge.svg\" alt=\"Open In Colab\"/></a>"
      ]
    },
    {
      "cell_type": "code",
      "execution_count": 112,
      "metadata": {
        "id": "Ma8monY-syxD"
      },
      "outputs": [],
      "source": [
        "import pandas as pd\n",
        "from sklearn.ensemble import RandomForestRegressor\n",
        "import matplotlib.pyplot as plt"
      ]
    },
    {
      "cell_type": "code",
      "source": [
        "dataset=pd.read_csv('HousingPrices-Amsterdam.csv')"
      ],
      "metadata": {
        "id": "t_dPhaBPs5OA"
      },
      "execution_count": 113,
      "outputs": []
    },
    {
      "cell_type": "code",
      "source": [
        "print(dataset.shape)\n",
        "print(dataset.head(10))"
      ],
      "metadata": {
        "colab": {
          "base_uri": "https://localhost:8080/"
        },
        "id": "scOJUtRltA6H",
        "outputId": "8bdb1922-e33d-4745-97af-1aeb55eea080"
      },
      "execution_count": 114,
      "outputs": [
        {
          "output_type": "stream",
          "name": "stdout",
          "text": [
            "(924, 8)\n",
            "   Unnamed: 0                                 Address      Zip     Price  \\\n",
            "0           1            Blasiusstraat 8 2, Amsterdam  1091 CR  685000.0   \n",
            "1           2  Kromme Leimuidenstraat 13 H, Amsterdam  1059 EL  475000.0   \n",
            "2           3              Zaaiersweg 11 A, Amsterdam  1097 SM  850000.0   \n",
            "3           4            Tenerifestraat 40, Amsterdam  1060 TH  580000.0   \n",
            "4           5              Winterjanpad 21, Amsterdam  1036 KN  720000.0   \n",
            "5           6          De Wittenkade 134 I, Amsterdam  1051 AM  450000.0   \n",
            "6           7           Pruimenstraat 18 B, Amsterdam  1033 KM  450000.0   \n",
            "7           8           Da Costakade 32 II, Amsterdam  1053 WL  590000.0   \n",
            "8           9             Postjeskade 41 2, Amsterdam  1058 DG  399000.0   \n",
            "9          10       Van Ostadestraat 193 H, Amsterdam  1073 TM  300000.0   \n",
            "\n",
            "   Area  Room       Lon        Lat  \n",
            "0    64     3  4.907736  52.356157  \n",
            "1    60     3  4.850476  52.348586  \n",
            "2   109     4  4.944774  52.343782  \n",
            "3   128     6  4.789928  52.343712  \n",
            "4   138     5  4.902503  52.410538  \n",
            "5    53     2  4.875024  52.382228  \n",
            "6    87     3  4.896536  52.410585  \n",
            "7    80     2  4.871555  52.371041  \n",
            "8    49     3  4.854671  52.363471  \n",
            "9    33     2  4.897142  52.353111  \n"
          ]
        }
      ]
    },
    {
      "cell_type": "code",
      "source": [
        "plt.xlabel('Area')\n",
        "plt.ylabel('Price')\n",
        "plt.scatter(dataset.Area,dataset.Price,color='red',marker=\"*\")"
      ],
      "metadata": {
        "colab": {
          "base_uri": "https://localhost:8080/",
          "height": 482
        },
        "id": "mwiW6cP3s9JA",
        "outputId": "0b5e91c7-dd39-45d4-c3a5-528878e181c1"
      },
      "execution_count": 115,
      "outputs": [
        {
          "output_type": "execute_result",
          "data": {
            "text/plain": [
              "<matplotlib.collections.PathCollection at 0x794a8c1bcaf0>"
            ]
          },
          "metadata": {},
          "execution_count": 115
        },
        {
          "output_type": "display_data",
          "data": {
            "text/plain": [
              "<Figure size 640x480 with 1 Axes>"
            ],
            "image/png": "[encoded data removed]"
          },
          "metadata": {}
        }
      ]
    },
    {
      "cell_type": "code",
      "source": [
        "df=pd.DataFrame(dataset)\n",
        "df.drop(['Unnamed: 0','Address','Zip','Price'],axis=1,inplace=True)\n",
        "df.head()"
      ],
      "metadata": {
        "colab": {
          "base_uri": "https://localhost:8080/",
          "height": 206
        },
        "id": "ERCz76RstLgP",
        "outputId": "6015a139-f285-4cc8-8885-ecd41bfb50b4"
      },
      "execution_count": 116,
      "outputs": [
        {
          "output_type": "execute_result",
          "data": {
            "text/plain": [
              "   Area  Room       Lon        Lat\n",
              "0    64     3  4.907736  52.356157\n",
              "1    60     3  4.850476  52.348586\n",
              "2   109     4  4.944774  52.343782\n",
              "3   128     6  4.789928  52.343712\n",
              "4   138     5  4.902503  52.410538"
            ],
            "text/html": [
              "\n",
              "  <div id=\"df-09bb8f25-fee1-4b66-9845-2793ea4ad28e\" class=\"colab-df-container\">\n",
              "    <div>\n",
              "<style scoped>\n",
              "    .dataframe tbody tr th:only-of-type {\n",
              "        vertical-align: middle;\n",
              "    }\n",
              "\n",
              "    .dataframe tbody tr th {\n",
              "        vertical-align: top;\n",
              "    }\n",
              "\n",
              "    .dataframe thead th {\n",
              "        text-align: right;\n",
              "    }\n",
              "</style>\n",
              "<table border=\"1\" class=\"dataframe\">\n",
              "  <thead>\n",
              "    <tr style=\"text-align: right;\">\n",
              "      <th></th>\n",
              "      <th>Area</th>\n",
              "      <th>Room</th>\n",
              "      <th>Lon</th>\n",
              "      <th>Lat</th>\n",
              "    </tr>\n",
              "  </thead>\n",
              "  <tbody>\n",
              "    <tr>\n",
              "      <th>0</th>\n",
              "      <td>64</td>\n",
              "      <td>3</td>\n",
              "      <td>4.907736</td>\n",
              "      <td>52.356157</td>\n",
              "    </tr>\n",
              "    <tr>\n",
              "      <th>1</th>\n",
              "      <td>60</td>\n",
              "      <td>3</td>\n",
              "      <td>4.850476</td>\n",
              "      <td>52.348586</td>\n",
              "    </tr>\n",
              "    <tr>\n",
              "      <th>2</th>\n",
              "      <td>109</td>\n",
              "      <td>4</td>\n",
              "      <td>4.944774</td>\n",
              "      <td>52.343782</td>\n",
              "    </tr>\n",
              "    <tr>\n",
              "      <th>3</th>\n",
              "      <td>128</td>\n",
              "      <td>6</td>\n",
              "      <td>4.789928</td>\n",
              "      <td>52.343712</td>\n",
              "    </tr>\n",
              "    <tr>\n",
              "      <th>4</th>\n",
              "      <td>138</td>\n",
              "      <td>5</td>\n",
              "      <td>4.902503</td>\n",
              "      <td>52.410538</td>\n",
              "    </tr>\n",
              "  </tbody>\n",
              "</table>\n",
              "</div>\n",
              "    <div class=\"colab-df-buttons\">\n",
              "\n",
              "  <div class=\"colab-df-container\">\n",
              "    <button class=\"colab-df-convert\" onclick=\"convertToInteractive('df-09bb8f25-fee1-4b66-9845-2793ea4ad28e')\"\n",
              "            title=\"Convert this dataframe to an interactive table.\"\n",
              "            style=\"display:none;\">\n",
              "\n",
              "  <svg xmlns=\"http://www.w3.org/2000/svg\" height=\"24px\" viewBox=\"0 -960 960 960\">\n",
              "    <path d=\"M120-120v-720h720v720H120Zm60-500h600v-160H180v160Zm220 220h160v-160H400v160Zm0 220h160v-160H400v160ZM180-400h160v-160H180v160Zm440 0h160v-160H620v160ZM180-180h160v-160H180v160Zm440 0h160v-160H620v160Z\"/>\n",
              "  </svg>\n",
              "    </button>\n",
              "\n",
              "  <style>\n",
              "    .colab-df-container {\n",
              "      display:flex;\n",
              "      gap: 12px;\n",
              "    }\n",
              "\n",
              "    .colab-df-convert {\n",
              "      background-color: #E8F0FE;\n",
              "      border: none;\n",
              "      border-radius: 50%;\n",
              "      cursor: pointer;\n",
              "      display: none;\n",
              "      fill: #1967D2;\n",
              "      height: 32px;\n",
              "      padding: 0 0 0 0;\n",
              "      width: 32px;\n",
              "    }\n",
              "\n",
              "    .colab-df-convert:hover {\n",
              "      background-color: #E2EBFA;\n",
              "      box-shadow: 0px 1px 2px rgba(60, 64, 67, 0.3), 0px 1px 3px 1px rgba(60, 64, 67, 0.15);\n",
              "      fill: #174EA6;\n",
              "    }\n",
              "\n",
              "    .colab-df-buttons div {\n",
              "      margin-bottom: 4px;\n",
              "    }\n",
              "\n",
              "    [theme=dark] .colab-df-convert {\n",
              "      background-color: #3B4455;\n",
              "      fill: #D2E3FC;\n",
              "    }\n",
              "\n",
              "    [theme=dark] .colab-df-convert:hover {\n",
              "      background-color: #434B5C;\n",
              "      box-shadow: 0px 1px 3px 1px rgba(0, 0, 0, 0.15);\n",
              "      filter: drop-shadow(0px 1px 2px rgba(0, 0, 0, 0.3));\n",
              "      fill: #FFFFFF;\n",
              "    }\n",
              "  </style>\n",
              "\n",
              "    <script>\n",
              "      const buttonEl =\n",
              "        document.querySelector('#df-09bb8f25-fee1-4b66-9845-2793ea4ad28e button.colab-df-convert');\n",
              "      buttonEl.style.display =\n",
              "        google.colab.kernel.accessAllowed ? 'block' : 'none';\n",
              "\n",
              "      async function convertToInteractive(key) {\n",
              "        const element = document.querySelector('#df-09bb8f25-fee1-4b66-9845-2793ea4ad28e');\n",
              "        const dataTable =\n",
              "          await google.colab.kernel.invokeFunction('convertToInteractive',\n",
              "                                                    [key], {});\n",
              "        if (!dataTable) return;\n",
              "\n",
              "        const docLinkHtml = 'Like what you see? Visit the ' +\n",
              "          '<a target=\"_blank\" href=https://colab.research.google.com/notebooks/data_table.ipynb>data table notebook</a>'\n",
              "          + ' to learn more about interactive tables.';\n",
              "        element.innerHTML = '';\n",
              "        dataTable['output_type'] = 'display_data';\n",
              "        await google.colab.output.renderOutput(dataTable, element);\n",
              "        const docLink = document.createElement('div');\n",
              "        docLink.innerHTML = docLinkHtml;\n",
              "        element.appendChild(docLink);\n",
              "      }\n",
              "    </script>\n",
              "  </div>\n",
              "\n",
              "\n",
              "<div id=\"df-4610595a-d158-473a-a2ca-f57e333bc451\">\n",
              "  <button class=\"colab-df-quickchart\" onclick=\"quickchart('df-4610595a-d158-473a-a2ca-f57e333bc451')\"\n",
              "            title=\"Suggest charts.\"\n",
              "            style=\"display:none;\">\n",
              "\n",
              "<svg xmlns=\"http://www.w3.org/2000/svg\" height=\"24px\"viewBox=\"0 0 24 24\"\n",
              "     width=\"24px\">\n",
              "    <g>\n",
              "        <path d=\"M19 3H5c-1.1 0-2 .9-2 2v14c0 1.1.9 2 2 2h14c1.1 0 2-.9 2-2V5c0-1.1-.9-2-2-2zM9 17H7v-7h2v7zm4 0h-2V7h2v10zm4 0h-2v-4h2v4z\"/>\n",
              "    </g>\n",
              "</svg>\n",
              "  </button>\n",
              "\n",
              "<style>\n",
              "  .colab-df-quickchart {\n",
              "      --bg-color: #E8F0FE;\n",
              "      --fill-color: #1967D2;\n",
              "      --hover-bg-color: #E2EBFA;\n",
              "      --hover-fill-color: #174EA6;\n",
              "      --disabled-fill-color: #AAA;\n",
              "      --disabled-bg-color: #DDD;\n",
              "  }\n",
              "\n",
              "  [theme=dark] .colab-df-quickchart {\n",
              "      --bg-color: #3B4455;\n",
              "      --fill-color: #D2E3FC;\n",
              "      --hover-bg-color: #434B5C;\n",
              "      --hover-fill-color: #FFFFFF;\n",
              "      --disabled-bg-color: #3B4455;\n",
              "      --disabled-fill-color: #666;\n",
              "  }\n",
              "\n",
              "  .colab-df-quickchart {\n",
              "    background-color: var(--bg-color);\n",
              "    border: none;\n",
              "    border-radius: 50%;\n",
              "    cursor: pointer;\n",
              "    display: none;\n",
              "    fill: var(--fill-color);\n",
              "    height: 32px;\n",
              "    padding: 0;\n",
              "    width: 32px;\n",
              "  }\n",
              "\n",
              "  .colab-df-quickchart:hover {\n",
              "    background-color: var(--hover-bg-color);\n",
              "    box-shadow: 0 1px 2px rgba(60, 64, 67, 0.3), 0 1px 3px 1px rgba(60, 64, 67, 0.15);\n",
              "    fill: var(--button-hover-fill-color);\n",
              "  }\n",
              "\n",
              "  .colab-df-quickchart-complete:disabled,\n",
              "  .colab-df-quickchart-complete:disabled:hover {\n",
              "    background-color: var(--disabled-bg-color);\n",
              "    fill: var(--disabled-fill-color);\n",
              "    box-shadow: none;\n",
              "  }\n",
              "\n",
              "  .colab-df-spinner {\n",
              "    border: 2px solid var(--fill-color);\n",
              "    border-color: transparent;\n",
              "    border-bottom-color: var(--fill-color);\n",
              "    animation:\n",
              "      spin 1s steps(1) infinite;\n",
              "  }\n",
              "\n",
              "  @keyframes spin {\n",
              "    0% {\n",
              "      border-color: transparent;\n",
              "      border-bottom-color: var(--fill-color);\n",
              "      border-left-color: var(--fill-color);\n",
              "    }\n",
              "    20% {\n",
              "      border-color: transparent;\n",
              "      border-left-color: var(--fill-color);\n",
              "      border-top-color: var(--fill-color);\n",
              "    }\n",
              "    30% {\n",
              "      border-color: transparent;\n",
              "      border-left-color: var(--fill-color);\n",
              "      border-top-color: var(--fill-color);\n",
              "      border-right-color: var(--fill-color);\n",
              "    }\n",
              "    40% {\n",
              "      border-color: transparent;\n",
              "      border-right-color: var(--fill-color);\n",
              "      border-top-color: var(--fill-color);\n",
              "    }\n",
              "    60% {\n",
              "      border-color: transparent;\n",
              "      border-right-color: var(--fill-color);\n",
              "    }\n",
              "    80% {\n",
              "      border-color: transparent;\n",
              "      border-right-color: var(--fill-color);\n",
              "      border-bottom-color: var(--fill-color);\n",
              "    }\n",
              "    90% {\n",
              "      border-color: transparent;\n",
              "      border-bottom-color: var(--fill-color);\n",
              "    }\n",
              "  }\n",
              "</style>\n",
              "\n",
              "  <script>\n",
              "    async function quickchart(key) {\n",
              "      const quickchartButtonEl =\n",
              "        document.querySelector('#' + key + ' button');\n",
              "      quickchartButtonEl.disabled = true;  // To prevent multiple clicks.\n",
              "      quickchartButtonEl.classList.add('colab-df-spinner');\n",
              "      try {\n",
              "        const charts = await google.colab.kernel.invokeFunction(\n",
              "            'suggestCharts', [key], {});\n",
              "      } catch (error) {\n",
              "        console.error('Error during call to suggestCharts:', error);\n",
              "      }\n",
              "      quickchartButtonEl.classList.remove('colab-df-spinner');\n",
              "      quickchartButtonEl.classList.add('colab-df-quickchart-complete');\n",
              "    }\n",
              "    (() => {\n",
              "      let quickchartButtonEl =\n",
              "        document.querySelector('#df-4610595a-d158-473a-a2ca-f57e333bc451 button');\n",
              "      quickchartButtonEl.style.display =\n",
              "        google.colab.kernel.accessAllowed ? 'block' : 'none';\n",
              "    })();\n",
              "  </script>\n",
              "</div>\n",
              "    </div>\n",
              "  </div>\n"
            ]
          },
          "metadata": {},
          "execution_count": 116
        }
      ]
    },
    {
      "cell_type": "code",
      "source": [
        "Y=dataset.Price\n",
        "Y.head()"
      ],
      "metadata": {
        "colab": {
          "base_uri": "https://localhost:8080/"
        },
        "id": "dK98_qL6tPkc",
        "outputId": "03b8439c-6512-404a-889b-6eb7fd55f28d"
      },
      "execution_count": 117,
      "outputs": [
        {
          "output_type": "execute_result",
          "data": {
            "text/plain": [
              "0    685000.0\n",
              "1    475000.0\n",
              "2    850000.0\n",
              "3    580000.0\n",
              "4    720000.0\n",
              "Name: Price, dtype: float64"
            ]
          },
          "metadata": {},
          "execution_count": 117
        }
      ]
    },
    {
      "cell_type": "code",
      "source": [
        "features=['Area','Room','Lon','Lat']\n",
        "X=df[features]"
      ],
      "metadata": {
        "id": "N1j3bykVz7a4"
      },
      "execution_count": 118,
      "outputs": []
    },
    {
      "cell_type": "code",
      "source": [
        "import numpy as np\n",
        "Y = np.squeeze(Y)"
      ],
      "metadata": {
        "id": "w6ycWla5tUnA"
      },
      "execution_count": 119,
      "outputs": []
    },
    {
      "cell_type": "code",
      "source": [
        "print(X.shape)\n",
        "print(Y.shape)"
      ],
      "metadata": {
        "colab": {
          "base_uri": "https://localhost:8080/"
        },
        "id": "3n6K_6ekthRW",
        "outputId": "90d665f4-a7af-4e14-91e0-7f04eb7ccf2b"
      },
      "execution_count": 120,
      "outputs": [
        {
          "output_type": "stream",
          "name": "stdout",
          "text": [
            "(924, 4)\n",
            "(924,)\n"
          ]
        }
      ]
    },
    {
      "cell_type": "code",
      "source": [
        "X=X.apply(pd.to_numeric,errors='coerce')\n",
        "Y=Y.apply(pd.to_numeric,errors='coerce')\n",
        "X.fillna(0,inplace=True)\n",
        "Y.fillna(0,inplace=True)"
      ],
      "metadata": {
        "id": "iuzbqTvbtmks"
      },
      "execution_count": 121,
      "outputs": []
    },
    {
      "cell_type": "code",
      "source": [
        "from sklearn.model_selection import train_test_split"
      ],
      "metadata": {
        "id": "fK1nxMFg0VTG"
      },
      "execution_count": 122,
      "outputs": []
    },
    {
      "cell_type": "code",
      "source": [
        "x_train,x_test,y_train,y_test=train_test_split(X,Y,test_size=0.40,random_state=101)"
      ],
      "metadata": {
        "id": "e1rUbBFX0d0J"
      },
      "execution_count": 100,
      "outputs": []
    },
    {
      "cell_type": "code",
      "source": [
        "from sklearn.metrics import mean_absolute_error\n",
        "model= RandomForestRegressor()\n",
        "model.fit(x_train,y_train)\n",
        "y_pred=model.predict(x_test)\n",
        "print(y_pred)"
      ],
      "metadata": {
        "colab": {
          "base_uri": "https://localhost:8080/"
        },
        "id": "Xa38Fq_Kt8jY",
        "outputId": "33aace7e-bcd3-4cdf-991c-866b5ade072e"
      },
      "execution_count": 123,
      "outputs": [
        {
          "output_type": "stream",
          "name": "stdout",
          "text": [
            "[ 954700.    493160.    524100.    462639.    826600.    294050.\n",
            " 1481250.55  316985.    297250.    715830.    459919.    373528.04\n",
            "  403350.    505689.52  528540.    457370.    254775.    608050.\n",
            "  729153.    620820.    343200.    386300.    560950.    473590.\n",
            "  355530.    320715.    781370.    620490.    448530.    299050.\n",
            "  353800.    428550.    546920.   1129345.    337325.    422310.\n",
            "  634337.38  564430.    492800.    487275.    560430.    613350.\n",
            "  371950.    753440.    601470.   1818400.    483350.    817650.\n",
            "  408850.    561780.    396550.    305625.    875400.   1109055.\n",
            "  690120.    430140.    984590.    712057.5   368470.03  355840.\n",
            "  551340.    531700.    305880.    597340.    610327.38  373100.\n",
            "  507550.    637475.   1008810.    358040.    232630.    754150.5\n",
            "  389470.    310680.    313092.5   303650.   1422711.43 1179950.\n",
            "  454883.01  661736.    892430.    386100.    420750.    403170.\n",
            "  497460.    442560.    287580.    300210.    379797.5  1607140.44\n",
            "  244170.    296435.   1219740.   1760120.22  344190.    648730.\n",
            "  769910.    536060.    427600.    456250.    851545.    445910.\n",
            " 1322500.88  404450.   1247290.    732396.5  1612460.33  440547.38\n",
            "  297300.    305260.    444530.   1196890.    258330.   1677740.33\n",
            "  375260.    601800.    345440.    402650.    413390.   1224900.\n",
            " 1169280.    273820.    612354.01  481910.    891550.    298630.\n",
            "  313400.    794170.   1106245.11  979370.76 1106765.    388890.\n",
            "  334890.    418906.66  492746.9  1265380.    593810.    484879.\n",
            "  985220.   1182820.44  275387.38  994910.    349100.    517800.\n",
            "  329760.    256760.   1757690.22 1768830.    421500.    255130.\n",
            "  606450.    364310.    303650.    363690.   2512440.11  403700.\n",
            "  689100.    490250.   1180320.    564637.51  314415.    323830.02\n",
            "  376250.   1201490.    344850.    437951.66 1232240.11  232450.\n",
            "  238750.    804695.    301140.    321700.    400520.    317420.\n",
            " 1172880.    342500.    539230.    858000.    598130.    428557.38\n",
            "  343190.    572474.01  966250.    264300.    443500.    553650.\n",
            "  559220.    451570.    347800.    363027.5   337700.    687030.\n",
            "  677447.5   465239.    285035.   1149350.    324340.    531400.\n",
            "  689520.    568240.    585079.01  545750.    345200.    861150.\n",
            "  545770.    286570.    386015.    418400.    390710.    401740.\n",
            "  373480.   2303130.    429540.    651510.    306699.    309020.\n",
            "  344390.    256610.    769520.22  771099.    260650.    273820.\n",
            "  369920.    979340.11  395890.    300600.    452485.    437140.\n",
            "  600000.    365450.    526890.   1024720.    366880.    647166.\n",
            "  434810.    536060.    452740.    936900.    422920.    710520.\n",
            "  682920.    318190.    982680.55  533760.    770120.    583660.\n",
            "  373560.04  840430.    353770.    886117.    535680.    609819.01\n",
            "  752230.    959710.33  762660.    328950.    400830.    327760.\n",
            "  645549.    475950.    350462.5   387910.04 1115370.22  297250.\n",
            "  469902.14  690024.    292520.    396300.   1096765.    356770.\n",
            "  754040.5   328550.    482750.    287590.    279500.    449010.\n",
            "  342650.    403125.    315650.    775538.    303440.    395415.\n",
            " 1154360.    247900.    542960.    564120.    359910.    419529.01\n",
            "  421900.   3507150.    619350.    931751.65 1214290.   1053900.\n",
            "  519750.    828400.    671040.    247550.   3507630.    683797.5\n",
            "  447177.02  537340.    373225.    373780.    369490.    341375.\n",
            "  386820.    591587.    332550.   1069290.32  795690.    773400.\n",
            "  485040.   1724070.11  721205.    326590.    329800.    845280.22\n",
            "  335610.    343340.01  593650.    347065.   1028940.    313270.\n",
            "  412210.    629078.    426900.    309160.    370850.    343750.\n",
            "  318375.    701129.    745110.    719747.5  1252150.11 1014000.11\n",
            "  817650.    447000.    535750.    282450.    421220.    496920.\n",
            "  553640.    388720.    439470.    305625.   1139807.5   410845.\n",
            "  391460.    752260.    264690.    494677.21  329690.01  395715.\n",
            "  619740.    606490.    426530.    353700.    903285.    725022.5\n",
            "  325170.    374240.   3430650.    929630.    267260.    343980.\n",
            " 1009550.    623690.    384160.    331350.  ]\n"
          ]
        }
      ]
    },
    {
      "cell_type": "code",
      "source": [
        "X=[113,4,4.965731,52.375268]\n",
        "lf=[X]\n",
        "Predictedmodelresult=model.predict(lf)\n",
        "print(Predictedmodelresult)\n",
        "print(\"The price of {0} Square Feet land is :{1}\".format(X,Predictedmodelresult))"
      ],
      "metadata": {
        "colab": {
          "base_uri": "https://localhost:8080/"
        },
        "id": "RBFRdsciuF_g",
        "outputId": "9b686b33-15a5-412c-c36e-a1c8c3780a61"
      },
      "execution_count": 127,
      "outputs": [
        {
          "output_type": "stream",
          "name": "stdout",
          "text": [
            "[585079.01]\n",
            "The price of [113, 4, 4.965731, 52.375268] Square Feet land is :[585079.01]\n"
          ]
        },
        {
          "output_type": "stream",
          "name": "stderr",
          "text": [
            "/usr/local/lib/python3.10/dist-packages/sklearn/base.py:439: UserWarning: X does not have valid feature names, but RandomForestRegressor was fitted with feature names\n",
            "  warnings.warn(\n"
          ]
        }
      ]
    }
  ]
}